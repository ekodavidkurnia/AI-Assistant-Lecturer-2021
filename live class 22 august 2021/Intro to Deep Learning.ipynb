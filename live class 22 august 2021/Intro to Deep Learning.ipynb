{
 "cells": [
  {
   "cell_type": "markdown",
   "metadata": {},
   "source": [
    "# Why use deep learning\n",
    "\n",
    "- for a complex problem, we cant think the rules so we need to use ML/DL\n",
    "\n",
    "- if you can build a `simple rule-based` system  that doesnt requiere ML/DL, do that"
   ]
  },
  {
   "cell_type": "markdown",
   "metadata": {},
   "source": [
    "# What deep learning good for?\n",
    "\n",
    "- problem with long lists of rules\n",
    "- Continually changing environtment\n",
    "- discovering insights within large collection data"
   ]
  },
  {
   "cell_type": "markdown",
   "metadata": {},
   "source": [
    "# What deep learning is not good for\n",
    "\n",
    "- when you need explainability\n",
    "- when the traditional approach is better option\n",
    "- when errors are unacceptable\n",
    "- when you dont have muct data"
   ]
  },
  {
   "cell_type": "markdown",
   "metadata": {},
   "source": [
    "# When should use ML or DL\n",
    "\n",
    "> __use ML on structured data__\n",
    "- Linear Regression\n",
    "- Lasso Ridge\n",
    "- Decicions Tree\n",
    "- Random forest\n",
    "- Naive bayes\n",
    "- Nearest neighbour\n",
    "- SVM\n",
    "- Gradient Boosting\n",
    "- Adaboost\n",
    "- XGboost\n",
    "- ....\n",
    "\n",
    "\n",
    "> __use DL on unstructured data__\n",
    "- ANN\n",
    "- CNN\n",
    "- RNN\n",
    "- LSTM\n",
    "- Transformer\n",
    "- ...."
   ]
  },
  {
   "cell_type": "markdown",
   "metadata": {},
   "source": [
    "# Tensorflow Workflow\n",
    "\n",
    "- Get data ready (turn it in to tensor)\n",
    "- Build model\n",
    "- Fit the model to the data\n",
    "- Evaluate model\n",
    "- Improve through experimentation\n",
    "- Save and reload the model"
   ]
  },
  {
   "cell_type": "markdown",
   "metadata": {},
   "source": [
    "# Deep Learning flow\n",
    "\n",
    "- Input\n",
    "- Numerical Encoding\n",
    "- Model (will learn pattern that represent the data)\n",
    "- Representation Output\n",
    "- Output (human can understand)"
   ]
  },
  {
   "cell_type": "markdown",
   "metadata": {},
   "source": [
    "# Deep Learning Usecase\n",
    "\n",
    "- Recommendation system\n",
    "- Translation\n",
    "- Computer Vision\n",
    "- Natural Language Processing\n",
    "- Speech Recognition\n",
    "- ..........\n",
    "- should check deepmind"
   ]
  },
  {
   "cell_type": "markdown",
   "metadata": {},
   "source": [
    "# Types of Learning\n",
    "\n",
    "- Supervised Learning (labeled data)\n",
    "- Semi-Supervised Learning (some data and some label)\n",
    "- Unsupervised Learning (data with no label)\n",
    "- Transfer Learning (use pattern on different data)\n",
    "- Reinforccement Learning (no data)"
   ]
  },
  {
   "cell_type": "markdown",
   "metadata": {},
   "source": [
    "# How to approach learning ML/DL\n",
    "\n",
    "- write code ('if in doubt, run the code')\n",
    "- explore & experiment \n",
    "- ask questions (including the __'dumb'__ ones, you will get very smart if you ask lots of __'dumb'__ question) \n",
    "- Do the exercises (this course doesnt cover anything)\n",
    "- share your work (make github)\n",
    "- Avoid overthinking ('I cant learn it' mentality is bullsh*t)"
   ]
  },
  {
   "cell_type": "code",
   "execution_count": null,
   "metadata": {},
   "outputs": [],
   "source": []
  }
 ],
 "metadata": {
  "kernelspec": {
   "display_name": "Python 3",
   "language": "python",
   "name": "python3"
  },
  "language_info": {
   "codemirror_mode": {
    "name": "ipython",
    "version": 3
   },
   "file_extension": ".py",
   "mimetype": "text/x-python",
   "name": "python",
   "nbconvert_exporter": "python",
   "pygments_lexer": "ipython3",
   "version": "3.8.6"
  }
 },
 "nbformat": 4,
 "nbformat_minor": 4
}
