{
 "cells": [
  {
   "cell_type": "markdown",
   "metadata": {},
   "source": [
    "# Datasets:\n",
    "\n",
    "\n",
    "\n",
    "Kaggle: https://www.kaggle.com/datasets\n",
    "\n",
    "UCI: https://archive.ics.uci.edu/ml/index.php\n",
    "\n",
    "Quandl: https://www.quandl.com/\n",
    "\n",
    "US Government Open Dataset: https://www.data.gov/\n",
    "\n",
    "World Bank Dataset: https://data.worldbank.org/\n",
    "\n",
    "Group Lens dataset: https://grouplens.org/\n",
    "\n",
    "Awesome Public Dataset: https://github.com/awesomedata/awesome-public-datasets\n",
    "\n",
    "Tau data : https://tau-data.id/open-dataset/\n",
    "\n",
    "Data world : https://data.world/datasets/indonesia\n",
    "\n",
    "satu data : https://data.go.id/\n",
    "\n",
    "data jakarta : https://data.jakarta.go.id/dataset\n",
    "\n",
    "Data Atlas : https://knoema.com/atlas\n",
    "\n",
    "Covid sinta : https://sinta.ristekbrin.go.id/covid/datasets\n",
    "\n",
    "google data research : https://datasetsearch.research.google.com/\n"
   ]
  }
 ],
 "metadata": {
  "kernelspec": {
   "display_name": "Python 3",
   "language": "python",
   "name": "python3"
  },
  "language_info": {
   "codemirror_mode": {
    "name": "ipython",
    "version": 3
   },
   "file_extension": ".py",
   "mimetype": "text/x-python",
   "name": "python",
   "nbconvert_exporter": "python",
   "pygments_lexer": "ipython3",
   "version": "3.8.6"
  }
 },
 "nbformat": 4,
 "nbformat_minor": 4
}
