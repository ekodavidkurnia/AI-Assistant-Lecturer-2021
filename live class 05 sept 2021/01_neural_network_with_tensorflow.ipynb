{
 "cells": [
  {
   "cell_type": "markdown",
   "metadata": {},
   "source": [
    "# introduction to Regression with Neural Network\n",
    "\n",
    "predicting numerical variable based on some other independent variable"
   ]
  },
  {
   "cell_type": "code",
   "execution_count": 1,
   "metadata": {},
   "outputs": [
    {
     "name": "stdout",
     "output_type": "stream",
     "text": [
      "2.5.0\n"
     ]
    }
   ],
   "source": [
    "# Import Tensorflow\n",
    "import tensorflow as tf\n",
    "print(tf.__version__)"
   ]
  },
  {
   "cell_type": "markdown",
   "metadata": {},
   "source": [
    "## Creatng data to view and fit"
   ]
  },
  {
   "cell_type": "code",
   "execution_count": 4,
   "metadata": {},
   "outputs": [
    {
     "data": {
      "text/plain": [
       "<matplotlib.collections.PathCollection at 0x1cf618a68b0>"
      ]
     },
     "execution_count": 4,
     "metadata": {},
     "output_type": "execute_result"
    },
    {
     "data": {
      "image/png": "[encoded data removed]",
      "text/plain": [
       "<Figure size 432x288 with 1 Axes>"
      ]
     },
     "metadata": {
      "needs_background": "light"
     },
     "output_type": "display_data"
    }
   ],
   "source": [
    "import numpy as np\n",
    "import matplotlib.pyplot as plt\n",
    "\n",
    "# create feature\n",
    "X = np.array([-7., -4., -1., 2., 5., 8., 11., 14.])\n",
    "\n",
    "# create labels\n",
    "y = np.array([3., 6., 9., 12., 15., 18., 21., 24.])\n",
    "\n",
    "# Visualize it\n",
    "plt.scatter(X,y)"
   ]
  },
  {
   "cell_type": "code",
   "execution_count": 3,
   "metadata": {},
   "outputs": [
    {
     "data": {
      "text/plain": [
       "array([ True,  True,  True,  True,  True,  True,  True,  True])"
      ]
     },
     "execution_count": 3,
     "metadata": {},
     "output_type": "execute_result"
    }
   ],
   "source": [
    "y == X+10"
   ]
  },
  {
   "cell_type": "code",
   "execution_count": 20,
   "metadata": {},
   "outputs": [
    {
     "data": {
      "text/plain": [
       "LinearRegression()"
      ]
     },
     "execution_count": 20,
     "metadata": {},
     "output_type": "execute_result"
    }
   ],
   "source": [
    "from sklearn.linear_model import LinearRegression\n",
    "linear = LinearRegression()\n",
    "linear.fit(X.reshape(-1, 1),y.reshape(-1, 1))"
   ]
  },
  {
   "cell_type": "code",
   "execution_count": 38,
   "metadata": {},
   "outputs": [
    {
     "data": {
      "text/plain": [
       "array([[27.]])"
      ]
     },
     "execution_count": 38,
     "metadata": {},
     "output_type": "execute_result"
    }
   ],
   "source": [
    "linear.predict(np.array([17.0]).reshape(-1,1))"
   ]
  },
  {
   "cell_type": "markdown",
   "metadata": {},
   "source": [
    "## Input and output shapes"
   ]
  },
  {
   "cell_type": "code",
   "execution_count": 4,
   "metadata": {},
   "outputs": [],
   "source": [
    "# create a demo tensor for our problem\n",
    "b = np.array([-4.0, -3.0, -2.0, -1.0, 0.0, 1.0, 2.0, 3.0, 4.0, 5.0], dtype=float)"
   ]
  },
  {
   "cell_type": "code",
   "execution_count": 6,
   "metadata": {},
   "outputs": [
    {
     "data": {
      "text/plain": [
       "dtype('float64')"
      ]
     },
     "execution_count": 6,
     "metadata": {},
     "output_type": "execute_result"
    }
   ],
   "source": [
    "b.dtype"
   ]
  },
  {
   "cell_type": "code",
   "execution_count": null,
   "metadata": {},
   "outputs": [],
   "source": [
    "# Set random seed\n",
    "tf.random.set_seed(42)"
   ]
  },
  {
   "cell_type": "code",
   "execution_count": 30,
   "metadata": {},
   "outputs": [],
   "source": [
    "model = tf.keras.Sequential([tf.keras.layers.Dense(units=1, input_shape=[1])])\n",
    "model.compile(optimizer='sgd', loss='mean_squared_error', metrics=[\"mse\"])"
   ]
  },
  {
   "cell_type": "code",
   "execution_count": 31,
   "metadata": {},
   "outputs": [
    {
     "name": "stdout",
     "output_type": "stream",
     "text": [
      "Model: \"sequential_7\"\n",
      "_________________________________________________________________\n",
      "Layer (type)                 Output Shape              Param #   \n",
      "=================================================================\n",
      "dense_7 (Dense)              (None, 1)                 2         \n",
      "=================================================================\n",
      "Total params: 2\n",
      "Trainable params: 2\n",
      "Non-trainable params: 0\n",
      "_________________________________________________________________\n"
     ]
    }
   ],
   "source": [
    "model.summary()"
   ]
  },
  {
   "cell_type": "code",
   "execution_count": 32,
   "metadata": {
    "scrolled": true
   },
   "outputs": [
    {
     "name": "stdout",
     "output_type": "stream",
     "text": [
      "Epoch 1/50\n",
      "1/1 [==============================] - 0s 283ms/step - loss: 141.0943 - mse: 141.0943\n",
      "Epoch 2/50\n",
      "1/1 [==============================] - 0s 6ms/step - loss: 78.3486 - mse: 78.3486\n",
      "Epoch 3/50\n",
      "1/1 [==============================] - 0s 7ms/step - loss: 73.6895 - mse: 73.6895\n",
      "Epoch 4/50\n",
      "1/1 [==============================] - 0s 7ms/step - loss: 71.2925 - mse: 71.2925\n",
      "Epoch 5/50\n",
      "1/1 [==============================] - 0s 4ms/step - loss: 69.0506 - mse: 69.0506\n",
      "Epoch 6/50\n",
      "1/1 [==============================] - 0s 8ms/step - loss: 66.8821 - mse: 66.8821\n",
      "Epoch 7/50\n",
      "1/1 [==============================] - 0s 7ms/step - loss: 64.7818 - mse: 64.7818\n",
      "Epoch 8/50\n",
      "1/1 [==============================] - 0s 4ms/step - loss: 62.7474 - mse: 62.7474\n",
      "Epoch 9/50\n",
      "1/1 [==============================] - 0s 7ms/step - loss: 60.7769 - mse: 60.7769\n",
      "Epoch 10/50\n",
      "1/1 [==============================] - 0s 7ms/step - loss: 58.8683 - mse: 58.8683\n",
      "Epoch 11/50\n",
      "1/1 [==============================] - 0s 5ms/step - loss: 57.0197 - mse: 57.0197\n",
      "Epoch 12/50\n",
      "1/1 [==============================] - 0s 7ms/step - loss: 55.2291 - mse: 55.2291\n",
      "Epoch 13/50\n",
      "1/1 [==============================] - 0s 7ms/step - loss: 53.4947 - mse: 53.4947\n",
      "Epoch 14/50\n",
      "1/1 [==============================] - 0s 9ms/step - loss: 51.8148 - mse: 51.8148\n",
      "Epoch 15/50\n",
      "1/1 [==============================] - 0s 9ms/step - loss: 50.1877 - mse: 50.1877\n",
      "Epoch 16/50\n",
      "1/1 [==============================] - 0s 6ms/step - loss: 48.6116 - mse: 48.6116\n",
      "Epoch 17/50\n",
      "1/1 [==============================] - 0s 6ms/step - loss: 47.0850 - mse: 47.0850\n",
      "Epoch 18/50\n",
      "1/1 [==============================] - 0s 6ms/step - loss: 45.6064 - mse: 45.6064\n",
      "Epoch 19/50\n",
      "1/1 [==============================] - 0s 9ms/step - loss: 44.1742 - mse: 44.1742\n",
      "Epoch 20/50\n",
      "1/1 [==============================] - 0s 7ms/step - loss: 42.7870 - mse: 42.7870\n",
      "Epoch 21/50\n",
      "1/1 [==============================] - 0s 7ms/step - loss: 41.4434 - mse: 41.4434\n",
      "Epoch 22/50\n",
      "1/1 [==============================] - 0s 6ms/step - loss: 40.1419 - mse: 40.1419\n",
      "Epoch 23/50\n",
      "1/1 [==============================] - 0s 7ms/step - loss: 38.8813 - mse: 38.8813\n",
      "Epoch 24/50\n",
      "1/1 [==============================] - 0s 7ms/step - loss: 37.6603 - mse: 37.6603\n",
      "Epoch 25/50\n",
      "1/1 [==============================] - 0s 5ms/step - loss: 36.4777 - mse: 36.4777\n",
      "Epoch 26/50\n",
      "1/1 [==============================] - 0s 6ms/step - loss: 35.3322 - mse: 35.3322\n",
      "Epoch 27/50\n",
      "1/1 [==============================] - 0s 6ms/step - loss: 34.2226 - mse: 34.2226\n",
      "Epoch 28/50\n",
      "1/1 [==============================] - 0s 6ms/step - loss: 33.1479 - mse: 33.1479\n",
      "Epoch 29/50\n",
      "1/1 [==============================] - 0s 4ms/step - loss: 32.1070 - mse: 32.1070\n",
      "Epoch 30/50\n",
      "1/1 [==============================] - 0s 6ms/step - loss: 31.0987 - mse: 31.0987\n",
      "Epoch 31/50\n",
      "1/1 [==============================] - 0s 5ms/step - loss: 30.1221 - mse: 30.1221\n",
      "Epoch 32/50\n",
      "1/1 [==============================] - 0s 6ms/step - loss: 29.1762 - mse: 29.1762\n",
      "Epoch 33/50\n",
      "1/1 [==============================] - 0s 15ms/step - loss: 28.2599 - mse: 28.2599\n",
      "Epoch 34/50\n",
      "1/1 [==============================] - 0s 16ms/step - loss: 27.3725 - mse: 27.3725\n",
      "Epoch 35/50\n",
      "1/1 [==============================] - 0s 13ms/step - loss: 26.5129 - mse: 26.5129\n",
      "Epoch 36/50\n",
      "1/1 [==============================] - 0s 10ms/step - loss: 25.6803 - mse: 25.6803\n",
      "Epoch 37/50\n",
      "1/1 [==============================] - 0s 11ms/step - loss: 24.8739 - mse: 24.8739\n",
      "Epoch 38/50\n",
      "1/1 [==============================] - 0s 6ms/step - loss: 24.0928 - mse: 24.0928\n",
      "Epoch 39/50\n",
      "1/1 [==============================] - 0s 8ms/step - loss: 23.3362 - mse: 23.3362\n",
      "Epoch 40/50\n",
      "1/1 [==============================] - 0s 10ms/step - loss: 22.6033 - mse: 22.6033\n",
      "Epoch 41/50\n",
      "1/1 [==============================] - 0s 7ms/step - loss: 21.8935 - mse: 21.8935\n",
      "Epoch 42/50\n",
      "1/1 [==============================] - 0s 8ms/step - loss: 21.2060 - mse: 21.2060\n",
      "Epoch 43/50\n",
      "1/1 [==============================] - 0s 6ms/step - loss: 20.5401 - mse: 20.5401\n",
      "Epoch 44/50\n",
      "1/1 [==============================] - 0s 9ms/step - loss: 19.8950 - mse: 19.8950\n",
      "Epoch 45/50\n",
      "1/1 [==============================] - 0s 5ms/step - loss: 19.2703 - mse: 19.2703\n",
      "Epoch 46/50\n",
      "1/1 [==============================] - 0s 7ms/step - loss: 18.6651 - mse: 18.6651\n",
      "Epoch 47/50\n",
      "1/1 [==============================] - 0s 5ms/step - loss: 18.0790 - mse: 18.0790\n",
      "Epoch 48/50\n",
      "1/1 [==============================] - 0s 6ms/step - loss: 17.5112 - mse: 17.5112\n",
      "Epoch 49/50\n",
      "1/1 [==============================] - 0s 6ms/step - loss: 16.9613 - mse: 16.9613\n",
      "Epoch 50/50\n",
      "1/1 [==============================] - 0s 6ms/step - loss: 16.4287 - mse: 16.4287\n"
     ]
    },
    {
     "data": {
      "text/plain": [
       "<tensorflow.python.keras.callbacks.History at 0x1cfc0b3e2e0>"
      ]
     },
     "execution_count": 32,
     "metadata": {},
     "output_type": "execute_result"
    }
   ],
   "source": [
    "# Fit the model\n",
    "model.fit(X, y, epochs=50)"
   ]
  },
  {
   "cell_type": "code",
   "execution_count": 34,
   "metadata": {},
   "outputs": [],
   "source": [
    "weights = model.layers[0].get_weights()[0]\n",
    "biases = model.layers[0].get_weights()[1]"
   ]
  },
  {
   "cell_type": "code",
   "execution_count": 35,
   "metadata": {},
   "outputs": [
    {
     "data": {
      "text/plain": [
       "array([[1.2668617]], dtype=float32)"
      ]
     },
     "execution_count": 35,
     "metadata": {},
     "output_type": "execute_result"
    }
   ],
   "source": [
    "weights"
   ]
  },
  {
   "cell_type": "code",
   "execution_count": 36,
   "metadata": {},
   "outputs": [
    {
     "data": {
      "text/plain": [
       "array([5.523689], dtype=float32)"
      ]
     },
     "execution_count": 36,
     "metadata": {},
     "output_type": "execute_result"
    }
   ],
   "source": [
    "biases"
   ]
  },
  {
   "cell_type": "code",
   "execution_count": 39,
   "metadata": {},
   "outputs": [
    {
     "data": {
      "text/plain": [
       "array([[27.060337]], dtype=float32)"
      ]
     },
     "execution_count": 39,
     "metadata": {},
     "output_type": "execute_result"
    }
   ],
   "source": [
    "model.predict([17.0])"
   ]
  },
  {
   "cell_type": "code",
   "execution_count": 37,
   "metadata": {},
   "outputs": [],
   "source": [
    "from sklearn.tree import DecisionTreeClassifier"
   ]
  },
  {
   "cell_type": "code",
   "execution_count": null,
   "metadata": {},
   "outputs": [],
   "source": [
    "DecisionTreeClassifier(random_state=0, max_depth=2)"
   ]
  }
 ],
 "metadata": {
  "kernelspec": {
   "display_name": "Python 3",
   "language": "python",
   "name": "python3"
  },
  "language_info": {
   "codemirror_mode": {
    "name": "ipython",
    "version": 3
   },
   "file_extension": ".py",
   "mimetype": "text/x-python",
   "name": "python",
   "nbconvert_exporter": "python",
   "pygments_lexer": "ipython3",
   "version": "3.8.6"
  }
 },
 "nbformat": 4,
 "nbformat_minor": 4
}
